{
 "cells": [
  {
   "cell_type": "code",
   "execution_count": 1,
   "metadata": {},
   "outputs": [],
   "source": [
    "#This tracks storms from a date\n",
    "#Must have Monte Python package and storm_tracking_helper.py\n",
    "#Written by Chad Wiley\n",
    "\n",
    "%reload_ext autoreload\n",
    "%autoreload 2\n",
    "\n",
    "from storm_tracking_helper import *"
   ]
  },
  {
   "cell_type": "code",
   "execution_count": 2,
   "metadata": {},
   "outputs": [],
   "source": [
    "#set parameters for the entire run\n",
    "#data parameters\n",
    "year = '2020'\n",
    "day = '0527'\n",
    "full_date = year + day\n",
    "path = '/work/brian.matilla/WoFS_2020/MRMS/RAD_AZS_MSH/' + year + '/' + full_date + '/'\n",
    "base = 'wofs_MRMS_'\n",
    "#get all files of interest\n",
    "\n",
    "#how many timesteps wanted, none if no limit\n",
    "max_timestep = 36\n",
    "\n",
    "#storm and object label params\n",
    "method = 'single_threshold'\n",
    "bdry = 30\n",
    "\n",
    "#quality control param\n",
    "qc_params = [('min_area', 12)]\n",
    "\n",
    "#object matcher params\n",
    "cent_dist = 20\n",
    "min_dist = 10\n",
    "time_max = 0\n",
    "score_thresh = 0.1\n",
    "\n",
    "#plotting\n",
    "plot_side = True\n",
    "plot_ol = True\n",
    "\n",
    "#Max Filter\n",
    "max_filter = False\n",
    "max_size = 15 #10 and 15 can also be used (15 km, 30 km, 45 km since 3km grid spacing)\n",
    "\n",
    "#Make the figure dir and get output paths\n",
    "fig_dir = './figs/figs_%8s'%full_date #This needs to be changed if base saving changes\n",
    "storm_obj_path, storm_evo_path, tot_ci_path = make_dir(full_date, fig_dir)\n",
    "\n",
    "#Animation duration\n",
    "duration = 0.5\n"
   ]
  },
  {
   "cell_type": "code",
   "execution_count": 14,
   "metadata": {},
   "outputs": [],
   "source": [
    "projection, lats, lons = load_projection(full_date)"
   ]
  },
  {
   "cell_type": "code",
   "execution_count": 15,
   "metadata": {},
   "outputs": [],
   "source": [
    "#Get the data\n",
    "data, time= data_loader(path, base, max_timestep)"
   ]
  },
  {
   "cell_type": "code",
   "execution_count": 16,
   "metadata": {},
   "outputs": [],
   "source": [
    "#Object matcher from MontePython\n",
    "obj_match = mp.ObjectMatcher(cent_dist_max = cent_dist, min_dist_max = min_dist, time_max= time_max, score_thresh= score_thresh, \n",
    "                           one_to_one = False)\n",
    "\n",
    "create_metadata(full_date, max_timestep, cent_dist, min_dist, time_max, score_thresh, max_size)\n",
    "\n"
   ]
  },
  {
   "cell_type": "code",
   "execution_count": 17,
   "metadata": {},
   "outputs": [],
   "source": [
    "# #Loop through each time step, if new then red, existing then blue, no max_filter\n",
    "new_ci = track_storm_evolution(data, output_path = storm_obj_path, time = time,\n",
    "                                projection= projection,lats = lats, lons = lons,\n",
    "                                plot_side = plot_side, plot_ol = plot_ol, max_size = max_size,\n",
    "                                cent_dist = cent_dist, min_dist = min_dist,time_max = time_max,\n",
    "                                score_thresh = score_thresh, method = method,bdry = bdry, qc_params = qc_params)\n",
    "\n"
   ]
  },
  {
   "cell_type": "code",
   "execution_count": 18,
   "metadata": {},
   "outputs": [],
   "source": [
    "#animates all the time step images together\n",
    "animate(storm_obj_path = storm_obj_path, duration = duration, storm_evo_path = storm_evo_path, full_date=full_date)\n"
   ]
  },
  {
   "cell_type": "code",
   "execution_count": 19,
   "metadata": {},
   "outputs": [],
   "source": [
    "new_CI_plot(new_CI = ndimage.maximum_filter(input = new_ci, size = max_size), full_date = full_date, tot_ci_path = tot_ci_path, max_size=max_size)"
   ]
  },
  {
   "cell_type": "code",
   "execution_count": 3,
   "metadata": {},
   "outputs": [],
   "source": [
    "#Use here down if you want to run all cases.\n",
    "#how many timesteps wanted, none if no limit\n",
    "max_timestep = 36\n",
    "\n",
    "#storm and object label params\n",
    "method = 'single_threshold'\n",
    "bdry = 30\n",
    "\n",
    "#quality control param\n",
    "qc_params = [('min_area', 12)]\n",
    "\n",
    "#object matcher params\n",
    "cent_dist = 20\n",
    "min_dist = 10\n",
    "time_max = 0\n",
    "score_thresh = 0.1\n",
    "\n",
    "#plotting\n",
    "plot_side = True\n",
    "plot_ol = True\n",
    "\n",
    "#Max Filter\n",
    "max_filter = False\n",
    "max_size = 5 #10 and 15 can also be used (15 km, 30 km, 45 km since 3km grid spacing)\n",
    "\n",
    "#Animation duration\n",
    "duration = 0.5\n",
    "\n",
    "rerun = False"
   ]
  },
  {
   "cell_type": "code",
   "execution_count": 4,
   "metadata": {},
   "outputs": [],
   "source": [
    "obj_match = mp.ObjectMatcher(cent_dist_max = cent_dist, min_dist_max = min_dist, time_max= time_max, score_thresh= score_thresh, \n",
    "                           one_to_one = False)"
   ]
  },
  {
   "cell_type": "code",
   "execution_count": 6,
   "metadata": {},
   "outputs": [
    {
     "name": "stdout",
     "output_type": "stream",
     "text": [
      "Done: 20200526\n",
      "Done: 20200528\n",
      "Done: 20200529\n",
      "Done: 20200615\n",
      "Done: 20200616\n",
      "Done: 20200619\n",
      "Done: 20200621\n",
      "Done: 20200624\n",
      "Done: 20200626\n",
      "Done: 20200629\n",
      "Done: 20200630\n",
      "Done: 20200710\n",
      "Done: 20200717\n",
      "Done: 20200723\n",
      "Done: 20200724\n",
      "Done: 20200725\n",
      "Done: 20200726\n",
      "Done: 20200801\n",
      "Done: 20200803\n",
      "Done: 20200804\n",
      "Done: 20200806\n",
      "Done: 20200812\n",
      "Done: 20200814\n",
      "Done: 20200815\n",
      "Done: 20200824\n",
      "Done: 20200825\n",
      "Done: 20200826\n",
      "Done: 20200827\n",
      "Done: 20200909\n",
      "Done: 20200915\n",
      "Done: 20200916\n"
     ]
    },
    {
     "ename": "IndexError",
     "evalue": "list index out of range",
     "output_type": "error",
     "traceback": [
      "\u001b[0;31m---------------------------------------------------------------------------\u001b[0m",
      "\u001b[0;31mIndexError\u001b[0m                                Traceback (most recent call last)",
      "\u001b[1;32m/home/chad.wiley/wofs_ci/wofs_ml_ci/wofs_ml_ci/storm_motion.ipynb Cell 11'\u001b[0m in \u001b[0;36m<cell line: 6>\u001b[0;34m()\u001b[0m\n\u001b[1;32m     <a href='vscode-notebook-cell://ssh-remote%2Bwof-post6/home/chad.wiley/wofs_ci/wofs_ml_ci/wofs_ml_ci/storm_motion.ipynb#ch0000010vscode-remote?line=19'>20</a>\u001b[0m \u001b[39m#load data\u001b[39;00m\n\u001b[1;32m     <a href='vscode-notebook-cell://ssh-remote%2Bwof-post6/home/chad.wiley/wofs_ci/wofs_ml_ci/wofs_ml_ci/storm_motion.ipynb#ch0000010vscode-remote?line=20'>21</a>\u001b[0m data, time \u001b[39m=\u001b[39m data_loader(path, base, max_timestep)\n\u001b[0;32m---> <a href='vscode-notebook-cell://ssh-remote%2Bwof-post6/home/chad.wiley/wofs_ci/wofs_ml_ci/wofs_ml_ci/storm_motion.ipynb#ch0000010vscode-remote?line=21'>22</a>\u001b[0m projection, lats, lons \u001b[39m=\u001b[39m load_projection(cur_date)\n\u001b[1;32m     <a href='vscode-notebook-cell://ssh-remote%2Bwof-post6/home/chad.wiley/wofs_ci/wofs_ml_ci/wofs_ml_ci/storm_motion.ipynb#ch0000010vscode-remote?line=23'>24</a>\u001b[0m \u001b[39m#Write Read me\u001b[39;00m\n\u001b[1;32m     <a href='vscode-notebook-cell://ssh-remote%2Bwof-post6/home/chad.wiley/wofs_ci/wofs_ml_ci/wofs_ml_ci/storm_motion.ipynb#ch0000010vscode-remote?line=24'>25</a>\u001b[0m create_metadata(cur_date, max_timestep, cent_dist, min_dist, time_max, score_thresh, max_size)\n",
      "File \u001b[0;32m~/wofs_ci/wofs_ml_ci/wofs_ml_ci/storm_tracking_helper.py:100\u001b[0m, in \u001b[0;36mload_projection\u001b[0;34m(full_date)\u001b[0m\n\u001b[1;32m     <a href='file:///home/chad.wiley/wofs_ci/wofs_ml_ci/wofs_ml_ci/storm_tracking_helper.py?line=77'>78</a>\u001b[0m \u001b[39mdef\u001b[39;00m \u001b[39mload_projection\u001b[39m(full_date):\n\u001b[1;32m     <a href='file:///home/chad.wiley/wofs_ci/wofs_ml_ci/wofs_ml_ci/storm_tracking_helper.py?line=78'>79</a>\u001b[0m     \u001b[39m\"\"\"\u001b[39;00m\n\u001b[1;32m     <a href='file:///home/chad.wiley/wofs_ci/wofs_ml_ci/wofs_ml_ci/storm_tracking_helper.py?line=79'>80</a>\u001b[0m \u001b[39m    Loads in the lat and lon from summary files\u001b[39;00m\n\u001b[1;32m     <a href='file:///home/chad.wiley/wofs_ci/wofs_ml_ci/wofs_ml_ci/storm_tracking_helper.py?line=80'>81</a>\u001b[0m \u001b[39m    so that the proper projection can be created\u001b[39;00m\n\u001b[0;32m   (...)\u001b[0m\n\u001b[1;32m     <a href='file:///home/chad.wiley/wofs_ci/wofs_ml_ci/wofs_ml_ci/storm_tracking_helper.py?line=96'>97</a>\u001b[0m \u001b[39m        This is a list of all the lons within the domain.\u001b[39;00m\n\u001b[1;32m     <a href='file:///home/chad.wiley/wofs_ci/wofs_ml_ci/wofs_ml_ci/storm_tracking_helper.py?line=97'>98</a>\u001b[0m \u001b[39m    \"\"\"\u001b[39;00m\n\u001b[0;32m--> <a href='file:///home/chad.wiley/wofs_ci/wofs_ml_ci/wofs_ml_ci/storm_tracking_helper.py?line=99'>100</a>\u001b[0m     init_time \u001b[39m=\u001b[39m [p \u001b[39mfor\u001b[39;49;00m p \u001b[39min\u001b[39;49;00m os\u001b[39m.\u001b[39;49mlistdir(\u001b[39mf\u001b[39;49m\u001b[39m'\u001b[39;49m\u001b[39m/work/mflora/SummaryFiles/\u001b[39;49m\u001b[39m{\u001b[39;49;00mfull_date\u001b[39m}\u001b[39;49;00m\u001b[39m'\u001b[39;49m) \u001b[39mif\u001b[39;49;00m \u001b[39mlen\u001b[39;49m(p)\u001b[39m==\u001b[39;49m\u001b[39m4\u001b[39;49m][\u001b[39m0\u001b[39;49m]\n\u001b[1;32m    <a href='file:///home/chad.wiley/wofs_ci/wofs_ml_ci/wofs_ml_ci/storm_tracking_helper.py?line=100'>101</a>\u001b[0m     indir \u001b[39m=\u001b[39m glob(\u001b[39mf\u001b[39m\u001b[39m'\u001b[39m\u001b[39m/work/mflora/SummaryFiles/\u001b[39m\u001b[39m{\u001b[39;00mfull_date\u001b[39m}\u001b[39;00m\u001b[39m/\u001b[39m\u001b[39m{\u001b[39;00minit_time\u001b[39m}\u001b[39;00m\u001b[39m/wofs_ENS_*\u001b[39m\u001b[39m'\u001b[39m)[\u001b[39m0\u001b[39m]\n\u001b[1;32m    <a href='file:///home/chad.wiley/wofs_ci/wofs_ml_ci/wofs_ml_ci/storm_tracking_helper.py?line=102'>103</a>\u001b[0m     ds \u001b[39m=\u001b[39m xr\u001b[39m.\u001b[39mload_dataset(indir, decode_times\u001b[39m=\u001b[39m\u001b[39mFalse\u001b[39;00m)\n",
      "\u001b[0;31mIndexError\u001b[0m: list index out of range"
     ]
    }
   ],
   "source": [
    "#If all cases want to be run\n",
    "MRMS_path = '/work/brian.matilla/WoFS_2020/MRMS/RAD_AZS_MSH/2020'\n",
    "files = [f for f in os.listdir(MRMS_path)]\n",
    "files.sort()\n",
    "\n",
    "for cur_date in files:\n",
    "    #Check to make sure the current date has data inside of it and excluded files with diffent naming convections\n",
    "    if rerun == True and os.path.exists('./figs/figs_%s'%cur_date) == True:\n",
    "        print(\"Skipped: %s\"%cur_date)\n",
    "        new_CI_plot(new_CI = ndimage.maximum_filter(input = new_ci, size = max_size), full_date = cur_date, tot_ci_path = tot_ci_path, max_size = max_size)\n",
    "\n",
    "    elif len(os.listdir(MRMS_path + '/' + cur_date)) != 0 and cur_date != '20200430' and cur_date != '20200522' \\\n",
    "        and cur_date != '20200622' and cur_date != '20200623' and cur_date != '20200423' and cur_date != '20200424' \\\n",
    "            and cur_date != '20200523' and os.path.exists('./figs/figs_%s'%cur_date) == False:\n",
    "        #set parameters\n",
    "        path = '/work/brian.matilla/WoFS_2020/MRMS/RAD_AZS_MSH/2020/' + cur_date + '/'\n",
    "        fig_dir = './figs/figs_%8s'%cur_date \n",
    "        storm_obj_path, storm_evo_path, tot_ci_path = make_dir(cur_date, fig_dir)\n",
    "\n",
    "        #load data\n",
    "        data, time = data_loader(path, base, max_timestep)\n",
    "        projection, lats, lons = load_projection(cur_date)\n",
    "\n",
    "        #Write Read me\n",
    "        create_metadata(cur_date, max_timestep, cent_dist, min_dist, time_max, score_thresh, max_size)\n",
    "        \n",
    "        \n",
    "        new_ci = track_storm_evolution(data, output_path = storm_obj_path, time = time,\n",
    "                                projection= projection,lats = lats, lons = lons,\n",
    "                                plot_side = plot_side, plot_ol = plot_ol, max_size = max_size,\n",
    "                                cent_dist = cent_dist, min_dist = min_dist,time_max = time_max,\n",
    "                                score_thresh = score_thresh, method = method,bdry = bdry, qc_params = qc_params)\n",
    "        \n",
    "\n",
    "        animate(storm_obj_path = storm_obj_path, duration = duration, storm_evo_path = storm_evo_path, full_date=cur_date)\n",
    "\n",
    "        new_CI_plot(new_CI = ndimage.maximum_filter(input = new_ci, size = max_size), full_date = cur_date, tot_ci_path = tot_ci_path, max_size=max_size)\n",
    "        new_CI_plot(new_CI = ndimage.maximum_filter(input = new_ci, size = 10), full_date = cur_date, tot_ci_path = tot_ci_path, max_size=10)\n",
    "        new_CI_plot(new_CI = ndimage.maximum_filter(input = new_ci, size = 15), full_date = cur_date, tot_ci_path = tot_ci_path, max_size=15)\n",
    "        \n",
    "        \n",
    "        print('Done: %s'%cur_date)    "
   ]
  },
  {
   "cell_type": "code",
   "execution_count": null,
   "metadata": {},
   "outputs": [],
   "source": []
  }
 ],
 "metadata": {
  "interpreter": {
   "hash": "36baa43ddc18155893fe14a92174a34e5c020d09355315a8957c02d3d85fc8bf"
  },
  "kernelspec": {
   "display_name": "Python 3.10.4 ('tf')",
   "language": "python",
   "name": "python3"
  },
  "language_info": {
   "codemirror_mode": {
    "name": "ipython",
    "version": 3
   },
   "file_extension": ".py",
   "mimetype": "text/x-python",
   "name": "python",
   "nbconvert_exporter": "python",
   "pygments_lexer": "ipython3",
   "version": "3.10.4"
  },
  "orig_nbformat": 4
 },
 "nbformat": 4,
 "nbformat_minor": 2
}
